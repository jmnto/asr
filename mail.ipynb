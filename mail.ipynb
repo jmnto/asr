{
 "cells": [
  {
   "cell_type": "code",
   "execution_count": 62,
   "metadata": {
    "collapsed": true
   },
   "outputs": [],
   "source": [
    "import datetime\n",
    "import numpy as np"
   ]
  },
  {
   "cell_type": "code",
   "execution_count": 65,
   "metadata": {},
   "outputs": [
    {
     "data": {
      "text/plain": [
       "datetime.datetime(2018, 5, 10, 0, 48, 9, 169211)"
      ]
     },
     "execution_count": 65,
     "metadata": {},
     "output_type": "execute_result"
    }
   ],
   "source": [
    "data2 = datetime.datetime.today()\n",
    "data2"
   ]
  },
  {
   "cell_type": "code",
   "execution_count": 66,
   "metadata": {},
   "outputs": [
    {
     "name": "stdout",
     "output_type": "stream",
     "text": [
      "7\n",
      "2018-05-20 07:48:09.169211\n"
     ]
    }
   ],
   "source": [
    "data1 = data2 + datetime.timedelta(days=10)\n",
    "data1 = data1.replace(hour = 7)\n",
    "print(data1.isoweekday())\n",
    "print(data1)"
   ]
  },
  {
   "cell_type": "markdown",
   "metadata": {},
   "source": [
    "## regras:\n",
    "\n",
    "- Se hora data1 for maior do que o horário de expediente então soma-se um dia (se o dia seguinte não for um fim de semana) a data1 e coloca a hora igual ao horário de início de expediente. Caso seja um sábado o dia seguinte então soma-se a quantidade de dias necessários para dar na segunda feira.\n",
    "\n",
    "- Se hora de data1 for menor que o horário de expediente então o horário de data1 é igual ao horário de início do expediente\n",
    "\n",
    "- Se a hora de data2 for maior que o expediente então a hora é igual ao horário de fim do expediente.\n",
    "- Se a hora de data2 for menor que o expediente então a hora é igual ao horário de inicio do expediente.\n",
    "\n",
    "- Se houver mais de um dia de diferença, então verifica se existiu um fim de semana no meio das datas. \n",
    "- Se data1 foi enviado após o horário de \n",
    "\n",
    "\n"
   ]
  },
  {
   "cell_type": "code",
   "execution_count": 67,
   "metadata": {
    "collapsed": true
   },
   "outputs": [],
   "source": [
    "init_exp = 9\n",
    "fim_exp = 18"
   ]
  },
  {
   "cell_type": "code",
   "execution_count": 68,
   "metadata": {},
   "outputs": [
    {
     "data": {
      "text/plain": [
       "datetime.datetime(2018, 5, 21, 9, 0, 9, 169211)"
      ]
     },
     "execution_count": 68,
     "metadata": {},
     "output_type": "execute_result"
    }
   ],
   "source": [
    "if(data1.hour > fim_exp and (data1.isoweekday()+1 > 5 )):\n",
    "    if(data1.isoweekday() == 7):\n",
    "        aux=1\n",
    "    else:\n",
    "        aux = 8 - data1.isoweekday()\n",
    "    data1  =data1.replace(day = data1.day+aux, hour=init_exp, minute=0)\n",
    "elif(data1.hour > fim_exp):\n",
    "    data1  =data1.replace(day = data1.day+1, hour=init_exp, minute=0)\n",
    "elif(data1.hour < init_exp and data1.isoweekday() < 6 ):\n",
    "    data1  =data1.replace(hour=init_exp, minute=0)\n",
    "elif(data1.hour < init_exp and data1.isoweekday() >= 6):\n",
    "    if(data1.isoweekday() == 7):\n",
    "        aux=1\n",
    "    else:\n",
    "        aux = 8 - data1.isoweekday()\n",
    "    data1  =data1.replace(day = data1.day+aux, hour=init_exp, minute=0)   \n",
    "data1\n",
    "   \n",
    "      "
   ]
  },
  {
   "cell_type": "code",
   "execution_count": null,
   "metadata": {
    "collapsed": true
   },
   "outputs": [],
   "source": []
  },
  {
   "cell_type": "code",
   "execution_count": 69,
   "metadata": {},
   "outputs": [
    {
     "data": {
      "text/plain": [
       "datetime.datetime(2018, 5, 10, 9, 0, 9, 169211)"
      ]
     },
     "execution_count": 69,
     "metadata": {},
     "output_type": "execute_result"
    }
   ],
   "source": [
    "if(data2.hour > fim_exp and (data2.isoweekday()+1 > 5 )):\n",
    "    if(data2.isoweekday() == 7):\n",
    "        aux=1\n",
    "    else:\n",
    "        aux = 8 - data2.isoweekday()\n",
    "    data2  =data2.replace(day = data2.day+aux, hour=init_exp, minute=0)\n",
    "elif(data2.hour > fim_exp):\n",
    "    data2  =data2.replace(day = data2.day+1, hour=init_exp, minute=0)\n",
    "elif(data2.hour < init_exp and data2.isoweekday() < 6 ):\n",
    "    data2  =data2.replace(hour=init_exp, minute=0)\n",
    "elif(data2.hour < init_exp and data1.isoweekday() >= 6):\n",
    "    if(data2.isoweekday() == 7):\n",
    "        aux=1\n",
    "    else:\n",
    "        aux = 8 - data2.isoweekday()\n",
    "    data2  =data2.replace(day = data2.day+aux, hour=init_exp, minute=0)   \n",
    "data2\n",
    "   \n",
    "      "
   ]
  },
  {
   "cell_type": "code",
   "execution_count": 54,
   "metadata": {
    "collapsed": true
   },
   "outputs": [],
   "source": [
    "if(data1.day-data2.day == 1):\n",
    "    diff1 = data2.replace(hour =fim_exp, minute=0 )  - data2 \n",
    "    diff2 = data1 - data1.replace(hour = init_exp, minute=0)\n",
    "    diff = diff1+diff2"
   ]
  },
  {
   "cell_type": "code",
   "execution_count": 77,
   "metadata": {},
   "outputs": [
    {
     "data": {
      "text/plain": [
       "[datetime.datetime(2018, 5, 10, 9, 0, 9, 169211),\n",
       " datetime.datetime(2018, 5, 11, 9, 0, 9, 169211),\n",
       " datetime.datetime(2018, 5, 12, 9, 0, 9, 169211),\n",
       " datetime.datetime(2018, 5, 13, 9, 0, 9, 169211),\n",
       " datetime.datetime(2018, 5, 14, 9, 0, 9, 169211),\n",
       " datetime.datetime(2018, 5, 15, 9, 0, 9, 169211),\n",
       " datetime.datetime(2018, 5, 16, 9, 0, 9, 169211),\n",
       " datetime.datetime(2018, 5, 17, 9, 0, 9, 169211),\n",
       " datetime.datetime(2018, 5, 18, 9, 0, 9, 169211),\n",
       " datetime.datetime(2018, 5, 19, 9, 0, 9, 169211),\n",
       " datetime.datetime(2018, 5, 20, 9, 0, 9, 169211),\n",
       " datetime.datetime(2018, 5, 21, 9, 0, 9, 169211)]"
      ]
     },
     "execution_count": 77,
     "metadata": {},
     "output_type": "execute_result"
    }
   ],
   "source": [
    "dias=[]\n",
    "delta = data1 - data2 \n",
    "for i in range(delta.days + 1):\n",
    "    dias.append(data2 + datetime.timedelta(days=i))\n",
    "dias"
   ]
  },
  {
   "cell_type": "code",
   "execution_count": 78,
   "metadata": {
    "collapsed": true
   },
   "outputs": [],
   "source": [
    "feriados = [16, 19]"
   ]
  },
  {
   "cell_type": "code",
   "execution_count": 132,
   "metadata": {},
   "outputs": [],
   "source": [
    "if(len(dias) == 1):\n",
    "    diff = data1 - data2   \n",
    "else:\n",
    "    diff = data1 - data1\n",
    "    for dia in dias:\n",
    "        if(dia.day == data2.day):\n",
    "            aux = data2.replace(hour =fim_exp, minute=0 )  - data2\n",
    "        elif(dia.day == data1.day):\n",
    "            aux = data1 - data1.replace(hour = init_exp, minute=0)\n",
    "        else:\n",
    "            if(dia.isoweekday() > 5 or dia.day in feriados):\n",
    "                aux = data1-data1\n",
    "            else:\n",
    "                aux = data1.replace(hour=fim_exp, minute=0)- data1.replace(hour=init_exp, minute=0)\n",
    "        diff = diff+aux"
   ]
  },
  {
   "cell_type": "code",
   "execution_count": 91,
   "metadata": {},
   "outputs": [
    {
     "data": {
      "text/plain": [
       "datetime.timedelta(0)"
      ]
     },
     "execution_count": 91,
     "metadata": {},
     "output_type": "execute_result"
    }
   ],
   "source": [
    "diff = data1 - data1\n",
    "diff"
   ]
  },
  {
   "cell_type": "code",
   "execution_count": 125,
   "metadata": {},
   "outputs": [
    {
     "data": {
      "text/plain": [
       "datetime.datetime(2018, 5, 14, 9, 0, 9, 169211)"
      ]
     },
     "execution_count": 125,
     "metadata": {},
     "output_type": "execute_result"
    }
   ],
   "source": [
    "dia = dias[4]\n",
    "dia"
   ]
  },
  {
   "cell_type": "code",
   "execution_count": 128,
   "metadata": {},
   "outputs": [
    {
     "data": {
      "text/plain": [
       "False"
      ]
     },
     "execution_count": 128,
     "metadata": {},
     "output_type": "execute_result"
    }
   ],
   "source": [
    "dia.isoweekday() > 5 or dia.day in feriados"
   ]
  },
  {
   "cell_type": "code",
   "execution_count": 129,
   "metadata": {},
   "outputs": [
    {
     "data": {
      "text/plain": [
       "datetime.timedelta(0, 32400)"
      ]
     },
     "execution_count": 129,
     "metadata": {},
     "output_type": "execute_result"
    }
   ],
   "source": [
    "aux = data1.replace(hour=fim_exp, minute=0)- data1.replace(hour=init_exp, minute=0)\n",
    "aux"
   ]
  },
  {
   "cell_type": "code",
   "execution_count": 130,
   "metadata": {},
   "outputs": [
    {
     "data": {
      "text/plain": [
       "9.0"
      ]
     },
     "execution_count": 130,
     "metadata": {},
     "output_type": "execute_result"
    }
   ],
   "source": [
    "aux.total_seconds()/60/60"
   ]
  },
  {
   "cell_type": "code",
   "execution_count": 131,
   "metadata": {},
   "outputs": [
    {
     "data": {
      "text/plain": [
       "datetime.timedelta(1, 10800)"
      ]
     },
     "execution_count": 131,
     "metadata": {},
     "output_type": "execute_result"
    }
   ],
   "source": [
    "diff = diff+aux\n",
    "diff"
   ]
  },
  {
   "cell_type": "code",
   "execution_count": 109,
   "metadata": {},
   "outputs": [
    {
     "data": {
      "text/plain": [
       "5.777777777777778"
      ]
     },
     "execution_count": 109,
     "metadata": {},
     "output_type": "execute_result"
    }
   ],
   "source": [
    "52/9"
   ]
  },
  {
   "cell_type": "code",
   "execution_count": 135,
   "metadata": {},
   "outputs": [
    {
     "data": {
      "text/plain": [
       "6.0"
      ]
     },
     "execution_count": 135,
     "metadata": {},
     "output_type": "execute_result"
    }
   ],
   "source": [
    "diff.total_seconds()/60/60/9"
   ]
  },
  {
   "cell_type": "code",
   "execution_count": null,
   "metadata": {
    "collapsed": true
   },
   "outputs": [],
   "source": []
  },
  {
   "cell_type": "code",
   "execution_count": null,
   "metadata": {
    "collapsed": true
   },
   "outputs": [],
   "source": []
  },
  {
   "cell_type": "code",
   "execution_count": null,
   "metadata": {
    "collapsed": true
   },
   "outputs": [],
   "source": []
  },
  {
   "cell_type": "code",
   "execution_count": null,
   "metadata": {
    "collapsed": true
   },
   "outputs": [],
   "source": []
  },
  {
   "cell_type": "code",
   "execution_count": null,
   "metadata": {
    "collapsed": true
   },
   "outputs": [],
   "source": []
  },
  {
   "cell_type": "code",
   "execution_count": null,
   "metadata": {
    "collapsed": true
   },
   "outputs": [],
   "source": []
  },
  {
   "cell_type": "code",
   "execution_count": null,
   "metadata": {
    "collapsed": true
   },
   "outputs": [],
   "source": []
  },
  {
   "cell_type": "code",
   "execution_count": null,
   "metadata": {
    "collapsed": true
   },
   "outputs": [],
   "source": []
  },
  {
   "cell_type": "code",
   "execution_count": null,
   "metadata": {
    "collapsed": true
   },
   "outputs": [],
   "source": []
  },
  {
   "cell_type": "code",
   "execution_count": 88,
   "metadata": {},
   "outputs": [
    {
     "data": {
      "text/plain": [
       "2.25"
      ]
     },
     "execution_count": 88,
     "metadata": {},
     "output_type": "execute_result"
    }
   ],
   "source": [
    "diff.total_seconds()/60/60/24"
   ]
  },
  {
   "cell_type": "code",
   "execution_count": 82,
   "metadata": {},
   "outputs": [
    {
     "data": {
      "text/plain": [
       "datetime.datetime(2018, 5, 10, 9, 0, 9, 169211)"
      ]
     },
     "execution_count": 82,
     "metadata": {},
     "output_type": "execute_result"
    }
   ],
   "source": [
    "data2"
   ]
  },
  {
   "cell_type": "code",
   "execution_count": 83,
   "metadata": {},
   "outputs": [
    {
     "data": {
      "text/plain": [
       "datetime.datetime(2018, 5, 21, 9, 0, 9, 169211)"
      ]
     },
     "execution_count": 83,
     "metadata": {},
     "output_type": "execute_result"
    }
   ],
   "source": [
    "data1"
   ]
  },
  {
   "cell_type": "code",
   "execution_count": 20,
   "metadata": {},
   "outputs": [
    {
     "data": {
      "text/plain": [
       "datetime.datetime(2018, 5, 19, 22, 45, 24, 810924)"
      ]
     },
     "execution_count": 20,
     "metadata": {},
     "output_type": "execute_result"
    }
   ],
   "source": [
    "data3 = data2 + datetime.timedelta(days=10)\n",
    "data3"
   ]
  },
  {
   "cell_type": "code",
   "execution_count": 21,
   "metadata": {},
   "outputs": [
    {
     "data": {
      "text/plain": [
       "datetime.datetime(2018, 5, 1, 22, 45, 24, 810924)"
      ]
     },
     "execution_count": 21,
     "metadata": {},
     "output_type": "execute_result"
    }
   ],
   "source": [
    "data3.replace(day = 1)"
   ]
  },
  {
   "cell_type": "code",
   "execution_count": 22,
   "metadata": {},
   "outputs": [
    {
     "data": {
      "text/plain": [
       "datetime.datetime(2018, 5, 19, 22, 45, 24, 810924)"
      ]
     },
     "execution_count": 22,
     "metadata": {},
     "output_type": "execute_result"
    }
   ],
   "source": [
    "data3"
   ]
  },
  {
   "cell_type": "code",
   "execution_count": 38,
   "metadata": {},
   "outputs": [
    {
     "data": {
      "text/plain": [
       "True"
      ]
     },
     "execution_count": 38,
     "metadata": {},
     "output_type": "execute_result"
    }
   ],
   "source": [
    "3 in [1,2,3,4,5,6]"
   ]
  },
  {
   "cell_type": "code",
   "execution_count": 40,
   "metadata": {
    "collapsed": true
   },
   "outputs": [],
   "source": [
    "d= data1.day - data2.day"
   ]
  },
  {
   "cell_type": "code",
   "execution_count": 75,
   "metadata": {},
   "outputs": [
    {
     "data": {
      "text/plain": [
       "11"
      ]
     },
     "execution_count": 75,
     "metadata": {},
     "output_type": "execute_result"
    }
   ],
   "source": [
    "delta.days"
   ]
  },
  {
   "cell_type": "code",
   "execution_count": 76,
   "metadata": {},
   "outputs": [
    {
     "data": {
      "text/plain": [
       "21"
      ]
     },
     "execution_count": 76,
     "metadata": {},
     "output_type": "execute_result"
    }
   ],
   "source": [
    "data1.day"
   ]
  },
  {
   "cell_type": "code",
   "execution_count": 38,
   "metadata": {},
   "outputs": [
    {
     "data": {
      "text/plain": [
       "10"
      ]
     },
     "execution_count": 38,
     "metadata": {},
     "output_type": "execute_result"
    }
   ],
   "source": [
    "data2.day"
   ]
  },
  {
   "cell_type": "code",
   "execution_count": 70,
   "metadata": {},
   "outputs": [
    {
     "data": {
      "text/plain": [
       "array([10, 11, 12, 13, 14, 15, 16, 17, 18, 19, 21])"
      ]
     },
     "execution_count": 70,
     "metadata": {},
     "output_type": "execute_result"
    }
   ],
   "source": [
    "\n",
    "np.linspace(start=data2.day, stop=data1.day, num=data1.day-data2.day, dtype = int )"
   ]
  },
  {
   "cell_type": "code",
   "execution_count": null,
   "metadata": {
    "collapsed": true
   },
   "outputs": [],
   "source": []
  }
 ],
 "metadata": {
  "kernelspec": {
   "display_name": "Python 3",
   "language": "python",
   "name": "python3"
  },
  "language_info": {
   "codemirror_mode": {
    "name": "ipython",
    "version": 3
   },
   "file_extension": ".py",
   "mimetype": "text/x-python",
   "name": "python",
   "nbconvert_exporter": "python",
   "pygments_lexer": "ipython3",
   "version": "3.6.1"
  }
 },
 "nbformat": 4,
 "nbformat_minor": 2
}
