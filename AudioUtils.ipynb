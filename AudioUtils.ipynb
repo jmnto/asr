{
 "cells": [
  {
   "cell_type": "markdown",
   "metadata": {},
   "source": [
    "**Utils for audio processing**"
   ]
  },
  {
   "cell_type": "code",
   "execution_count": 1,
   "metadata": {
    "collapsed": true
   },
   "outputs": [],
   "source": [
    "import numpy as np\n",
    "import pandas as pd\n",
    "import os\n",
    "import re\n",
    "import copy\n",
    "import subprocess\n",
    "import scipy.io.wavfile\n",
    "import matplotlib.pyplot as plt\n",
    "import matplotlib.cm as cm\n",
    "%matplotlib inline  \n",
    "import matplotlib\n"
   ]
  },
  {
   "cell_type": "code",
   "execution_count": 2,
   "metadata": {
    "collapsed": true
   },
   "outputs": [],
   "source": [
    "#Diretives \n",
    "AUDIO_PATH = 'test_wav/'\n",
    "OUT_PATH = 'test_out/'\n",
    "SH_FILE = 'goTests.sh'\n",
    "SEG_SUFFIX = '.3.h.seg'"
   ]
  },
  {
   "cell_type": "code",
   "execution_count": 3,
   "metadata": {
    "collapsed": true
   },
   "outputs": [],
   "source": [
    "#read an audio file for experiments\n",
    "sr,y = scipy.io.wavfile.read(filename='test_wav/diarizationExample.wav')"
   ]
  },
  {
   "cell_type": "code",
   "execution_count": 4,
   "metadata": {
    "collapsed": true
   },
   "outputs": [],
   "source": [
    "#calculate duration of the audio\n",
    "def audio_duration(y,sr):\n",
    "    return len(y)/sr"
   ]
  },
  {
   "cell_type": "code",
   "execution_count": 5,
   "metadata": {
    "collapsed": true
   },
   "outputs": [],
   "source": [
    "#get the number of frames\n",
    "def get_nFrames(y,sr,winStep=0.010 ):\n",
    "    num_frames = int(len(y)/(winStep*sr)) - 1    \n",
    "    return num_frames\n"
   ]
  },
  {
   "cell_type": "code",
   "execution_count": 6,
   "metadata": {
    "collapsed": true
   },
   "outputs": [],
   "source": [
    "def Sample2sec(sample, sr):\n",
    "    return sample/sr"
   ]
  },
  {
   "cell_type": "code",
   "execution_count": 7,
   "metadata": {
    "collapsed": true
   },
   "outputs": [],
   "source": [
    "def Sec2sample(sec, sr):\n",
    "    return int(sec*sr)"
   ]
  },
  {
   "cell_type": "code",
   "execution_count": 8,
   "metadata": {
    "collapsed": true
   },
   "outputs": [],
   "source": [
    "def Frame2sec(frame, nframes, duration):\n",
    "    return (frame*duration)/nframes"
   ]
  },
  {
   "cell_type": "code",
   "execution_count": 9,
   "metadata": {
    "collapsed": true
   },
   "outputs": [],
   "source": [
    "def Sec2Frame(sec, nframes, duration):\n",
    "    return int((sec*nframes)/duration)"
   ]
  },
  {
   "cell_type": "code",
   "execution_count": 10,
   "metadata": {
    "collapsed": true
   },
   "outputs": [],
   "source": [
    "#function to run the LIUM spkdiar in an wav file, read the .h.3.seg file, identify the speaker segments, in seconds \n",
    "#and in frames and return this as a list"
   ]
  },
  {
   "cell_type": "code",
   "execution_count": 94,
   "metadata": {
    "collapsed": true
   },
   "outputs": [],
   "source": [
    "def runLIUMspkrdiar(data=AUDIO_PATH, sh=SH_FILE, out=OUT_PATH):\n",
    "    with open(sh,mode='r+') as f:\n",
    "        content = f.readlines()\n",
    "        print(content)\n",
    "        content[0] = 'inputfolder=./'+data+' \\n'\n",
    "        content[1] = 'outputfolder=./'+out+' \\n'\n",
    "        f.writelines(content)\n",
    "        f.close()   \n",
    "\n",
    "#command = \"./openSMILE-2.1.0/inst/bin/SMILExtract -I {input_file} -C {conf_file} --csvoutput {output_file}\".format(\n",
    "#                                    input_file=wave_file,\n",
    "#                                    conf_file=opensmile_conf,\n",
    "#                                    output_file=features_file)\n",
    "#output = subprocess.check_output(command, shell=True, stderr=subprocess.STDOUT)\n",
    "\n",
    "\n",
    "    \n"
   ]
  },
  {
   "cell_type": "code",
   "execution_count": 11,
   "metadata": {
    "collapsed": true
   },
   "outputs": [],
   "source": [
    "filename = 'test_out/diarizationExample/diarizationExample.h.3.seg'\n",
    "with open(filename) as f:\n",
    "    diarfile = f.readlines()"
   ]
  },
  {
   "cell_type": "code",
   "execution_count": 12,
   "metadata": {},
   "outputs": [
    {
     "data": {
      "text/plain": [
       "[';; cluster S0 \\n',\n",
       " 'diarizationExample 1 0 674 U U U S0\\n',\n",
       " ';; cluster S1 \\n',\n",
       " 'diarizationExample 1 674 434 U U U S1\\n',\n",
       " 'diarizationExample 1 1586 301 U U U S1\\n',\n",
       " 'diarizationExample 1 2795 649 U U U S1\\n',\n",
       " ';; cluster S2 \\n',\n",
       " 'diarizationExample 1 1108 478 U U U S2\\n',\n",
       " 'diarizationExample 1 1887 908 U U U S2\\n',\n",
       " ';; cluster S6 \\n',\n",
       " 'diarizationExample 1 3444 753 U U U S6\\n']"
      ]
     },
     "execution_count": 12,
     "metadata": {},
     "output_type": "execute_result"
    }
   ],
   "source": [
    "diarfile"
   ]
  },
  {
   "cell_type": "code",
   "execution_count": 13,
   "metadata": {
    "collapsed": true
   },
   "outputs": [],
   "source": [
    "def findClusterPosition(diarfile):\n",
    "    cluster_idx = []\n",
    "    for i in range(len(diarfile)):\n",
    "        aux_line = diarfile[i]\n",
    "        if len([m.start() for m in re.finditer(';;', diarfile[i])])>0:\n",
    "            cluster_idx.append(i)\n",
    "    nclusters = len(cluster_idx)\n",
    "    return cluster_idx, nclusters\n",
    "        "
   ]
  },
  {
   "cell_type": "code",
   "execution_count": 14,
   "metadata": {},
   "outputs": [
    {
     "data": {
      "text/plain": [
       "([0, 2, 6, 9], 4)"
      ]
     },
     "execution_count": 14,
     "metadata": {},
     "output_type": "execute_result"
    }
   ],
   "source": [
    "findClusterPosition(diarfile)"
   ]
  },
  {
   "cell_type": "code",
   "execution_count": 129,
   "metadata": {},
   "outputs": [
    {
     "data": {
      "text/plain": [
       "[';; cluster S0 \\n',\n",
       " 'diarizationExample 1 0 674 U U U S0\\n',\n",
       " ';; cluster S1 \\n',\n",
       " 'diarizationExample 1 674 434 U U U S1\\n',\n",
       " 'diarizationExample 1 1586 301 U U U S1\\n',\n",
       " 'diarizationExample 1 2795 649 U U U S1\\n',\n",
       " ';; cluster S2 \\n',\n",
       " 'diarizationExample 1 1108 478 U U U S2\\n',\n",
       " 'diarizationExample 1 1887 908 U U U S2\\n',\n",
       " ';; cluster S6 \\n',\n",
       " 'diarizationExample 1 3444 753 U U U S6\\n']"
      ]
     },
     "execution_count": 129,
     "metadata": {},
     "output_type": "execute_result"
    }
   ],
   "source": [
    "diarfile\n"
   ]
  },
  {
   "cell_type": "code",
   "execution_count": 15,
   "metadata": {
    "collapsed": true
   },
   "outputs": [],
   "source": [
    "def FindSegments_Frame(diarfile, cluster_idx, nclusters):\n",
    "    ClusterSegs = []\n",
    "    for i in range(nclusters):\n",
    "        if(i<(nclusters-1)):\n",
    "            segsClus_i = diarfile[cluster_idx[i]+1:cluster_idx[i+1]]\n",
    "        else:\n",
    "            segsClus_i = diarfile[cluster_idx[i]+1:]\n",
    "        SegsCluster_j = []\n",
    "        for j in range(len(segsClus_i)):\n",
    "            seg_j = segsClus_i[j]\n",
    "            spaces = [m.start() for m in re.finditer(' ', seg_j)]\n",
    "            fr_start = int(seg_j[(spaces[1]+1):spaces[2]])\n",
    "            fr_end = int(seg_j[(spaces[2]+1):spaces[3]]) + fr_start\n",
    "            SegsCluster_j.append([fr_start, fr_end])\n",
    "        ClusterSegs.append(SegsCluster_j)\n",
    "    return ClusterSegs"
   ]
  },
  {
   "cell_type": "code",
   "execution_count": 16,
   "metadata": {},
   "outputs": [
    {
     "data": {
      "text/plain": [
       "[[[0, 674]],\n",
       " [[674, 1108], [1586, 1887], [2795, 3444]],\n",
       " [[1108, 1586], [1887, 2795]],\n",
       " [[3444, 4197]]]"
      ]
     },
     "execution_count": 16,
     "metadata": {},
     "output_type": "execute_result"
    }
   ],
   "source": [
    "#teste\n",
    "cluster_idx, nclusters = findClusterPosition(diarfile)\n",
    "FindSegments_Frame(diarfile, cluster_idx, nclusters)"
   ]
  },
  {
   "cell_type": "code",
   "execution_count": 96,
   "metadata": {
    "collapsed": true
   },
   "outputs": [],
   "source": [
    "def FindSegments_Secs(Segments_Frame, nframes, duration):\n",
    "    ClusterSegs = copy.deepcopy(Segments_Frame)\n",
    "    for cluster_id,i in enumerate(Segments_Frame):\n",
    "        for seg_id,j in enumerate(i):\n",
    "            ClusterSegs[cluster_id][seg_id][0] = Frame2sec(j[0], nframes, duration)\n",
    "            ClusterSegs[cluster_id][seg_id][1] = Frame2sec(j[1], nframes, duration)\n",
    "    return ClusterSegs"
   ]
  },
  {
   "cell_type": "code",
   "execution_count": 97,
   "metadata": {},
   "outputs": [
    {
     "name": "stdout",
     "output_type": "stream",
     "text": [
      "[[[0, 674]], [[674, 1108], [1586, 1887], [2795, 3444]], [[1108, 1586], [1887, 2795]], [[3444, 4197]]]\n"
     ]
    },
    {
     "data": {
      "text/plain": [
       "[[[0.0, 6.742248272575649]],\n",
       " [[6.742248272575649, 11.083695973314272],\n",
       "  [15.865290445556349, 18.87629449606862],\n",
       "  [27.95932332618537, 34.45148820586133]],\n",
       " [[11.083695973314272, 15.865290445556349],\n",
       "  [18.87629449606862, 27.95932332618537]],\n",
       " [[34.45148820586133, 41.984]]]"
      ]
     },
     "execution_count": 97,
     "metadata": {},
     "output_type": "execute_result"
    }
   ],
   "source": [
    "#teste\n",
    "Segments_Frame = []\n",
    "duration = audio_duration(y,sr)\n",
    "nframes = get_nFrames(y,sr,winStep=0.010)\n",
    "cluster_idx, nclusters = findClusterPosition(diarfile)\n",
    "Segments_Frame = FindSegments_Frame(diarfile, cluster_idx, nclusters)\n",
    "FindSegments_Secs(Segments_Frame, nframes, duration)\n"
   ]
  },
  {
   "cell_type": "code",
   "execution_count": 98,
   "metadata": {},
   "outputs": [
    {
     "data": {
      "text/plain": [
       "[[[0, 674]],\n",
       " [[674, 1108], [1586, 1887], [2795, 3444]],\n",
       " [[1108, 1586], [1887, 2795]],\n",
       " [[3444, 4197]]]"
      ]
     },
     "execution_count": 98,
     "metadata": {},
     "output_type": "execute_result"
    }
   ],
   "source": [
    "Segments_Frame"
   ]
  },
  {
   "cell_type": "code",
   "execution_count": 99,
   "metadata": {
    "collapsed": true
   },
   "outputs": [],
   "source": [
    "def FindSegments_Samples(Segments_Sec, sr):\n",
    "    ClusterSegs = copy.deepcopy(Segments_Sec)\n",
    "    for cluster_id,i in enumerate(Segments_Sec):\n",
    "        for seg_id,j in enumerate(i):\n",
    "            ClusterSegs[cluster_id][seg_id][0] = Sec2sample(j[0], sr)\n",
    "            ClusterSegs[cluster_id][seg_id][1] = Sec2sample(j[1], sr)\n",
    "    return ClusterSegs"
   ]
  },
  {
   "cell_type": "code",
   "execution_count": 100,
   "metadata": {},
   "outputs": [
    {
     "data": {
      "text/plain": [
       "[[[0, 107875]],\n",
       " [[107875, 177339], [253844, 302020], [447349, 551223]],\n",
       " [[177339, 253844], [302020, 447349]],\n",
       " [[551223, 671744]]]"
      ]
     },
     "execution_count": 100,
     "metadata": {},
     "output_type": "execute_result"
    }
   ],
   "source": [
    "#teste\n",
    "Segments_Sec = FindSegments_Secs(Segments_Frame, nframes, duration)\n",
    "FindSegments_Samples(Segments_Sec, sr)\n"
   ]
  },
  {
   "cell_type": "code",
   "execution_count": 155,
   "metadata": {
    "collapsed": true
   },
   "outputs": [],
   "source": [
    "#function to plot \n",
    "def plot_clusteredSignal(y, Segments_Sample):\n",
    "    #plt.plot(y)  \n",
    "    plt.axis([0,len(y),-33000,33000])\n",
    "    x = np.linspace(0,len(y), num= len(y), dtype=int)\n",
    "    colors = plt.cm.tab10(np.linspace(start=0, stop=10, dtype=int, num=len(Segments_Sample)))\n",
    "    for clus_idx,i in enumerate(Segments_Sample):\n",
    "        for seg_idx,j in enumerate(i): \n",
    "            print(j[0], j[1])            \n",
    "            plt.plot(x[j[0]:j[1]], y[j[0]:j[1]], color = colors[clus_idx])\n",
    "    plt.show()\n",
    "\n"
   ]
  },
  {
   "cell_type": "code",
   "execution_count": 156,
   "metadata": {},
   "outputs": [
    {
     "name": "stdout",
     "output_type": "stream",
     "text": [
      "0 107875\n",
      "107875 177339\n",
      "253844 302020\n",
      "447349 551223\n",
      "177339 253844\n",
      "302020 447349\n",
      "551223 671744\n"
     ]
    },
    {
     "data": {
      "image/png": "[encoded data removed]",
      "text/plain": [
       "<matplotlib.figure.Figure at 0x7f8819548860>"
      ]
     },
     "metadata": {},
     "output_type": "display_data"
    }
   ],
   "source": [
    "#teste\n",
    "Segments_Sample = FindSegments_Samples(Segments_Sec, sr)\n",
    "plot_clusteredSignal(y, Segments_Sample)"
   ]
  },
  {
   "cell_type": "code",
   "execution_count": null,
   "metadata": {
    "collapsed": true
   },
   "outputs": [],
   "source": [
    "#funtion to go through the audio signal of each segment and identify if it is voice or just silence with noise."
   ]
  },
  {
   "cell_type": "code",
   "execution_count": 80,
   "metadata": {},
   "outputs": [
    {
     "data": {
      "text/plain": [
       "41.984"
      ]
     },
     "execution_count": 80,
     "metadata": {},
     "output_type": "execute_result"
    }
   ],
   "source": [
    "#Function to read the segments of each speaker and generate the segmented audio file\n",
    "len(y) /sr"
   ]
  },
  {
   "cell_type": "code",
   "execution_count": 81,
   "metadata": {},
   "outputs": [
    {
     "data": {
      "text/plain": [
       "670400.0"
      ]
     },
     "execution_count": 81,
     "metadata": {},
     "output_type": "execute_result"
    }
   ],
   "source": [
    "41.9*sr"
   ]
  },
  {
   "cell_type": "code",
   "execution_count": 108,
   "metadata": {},
   "outputs": [
    {
     "data": {
      "text/plain": [
       "[[[0, 1079]],\n",
       " [[1079, 1773], [2539, 3021], [4474, 5514]],\n",
       " [[1773, 2539], [3021, 4474]],\n",
       " [[5514, 6719]]]"
      ]
     },
     "execution_count": 108,
     "metadata": {},
     "output_type": "execute_result"
    }
   ],
   "source": [
    "Segments_Sec"
   ]
  },
  {
   "cell_type": "code",
   "execution_count": 39,
   "metadata": {},
   "outputs": [
    {
     "data": {
      "text/plain": [
       "([[[0.0, 6.748997591062609e-06]],\n",
       "  [[6.748997591062609e-06, 1.1094791292132596e-05],\n",
       "   [1.5881172373034563e-05, 1.8895190585066976e-05],\n",
       "   [2.7987311968872385e-05, 3.44859758213941e-05]],\n",
       "  [[1.1094791292132596e-05, 1.5881172373034563e-05],\n",
       "   [1.8895190585066976e-05, 2.7987311968872385e-05]],\n",
       "  [[3.44859758213941e-05, 4.202602802624594e-05]]],\n",
       " 4197,\n",
       " 41.984)"
      ]
     },
     "execution_count": 39,
     "metadata": {},
     "output_type": "execute_result"
    }
   ],
   "source": [
    "Segments_Frame, nframes, duration"
   ]
  },
  {
   "cell_type": "code",
   "execution_count": 47,
   "metadata": {},
   "outputs": [
    {
     "data": {
      "text/plain": [
       "41.984"
      ]
     },
     "execution_count": 47,
     "metadata": {},
     "output_type": "execute_result"
    }
   ],
   "source": [
    "duration"
   ]
  },
  {
   "cell_type": "code",
   "execution_count": 48,
   "metadata": {},
   "outputs": [
    {
     "data": {
      "text/plain": [
       "4197"
      ]
     },
     "execution_count": 48,
     "metadata": {},
     "output_type": "execute_result"
    }
   ],
   "source": [
    "nframes"
   ]
  },
  {
   "cell_type": "code",
   "execution_count": 49,
   "metadata": {},
   "outputs": [
    {
     "data": {
      "text/plain": [
       "[[[0.0, 6.751248864979095e-08]],\n",
       " [[6.751248864979095e-08, 1.1098492199401833e-07],\n",
       "  [1.5886469881093238e-07, 1.890149348399933e-07],\n",
       "  [2.7996647741270867e-07, 3.4497479363483676e-07]],\n",
       " [[1.1098492199401833e-07, 1.5886469881093238e-07],\n",
       "  [1.890149348399933e-07, 2.7996647741270867e-07]],\n",
       " [[3.4497479363483676e-07, 4.2040046715604235e-07]]]"
      ]
     },
     "execution_count": 49,
     "metadata": {},
     "output_type": "execute_result"
    }
   ],
   "source": [
    "Segments_Frame"
   ]
  },
  {
   "cell_type": "code",
   "execution_count": 114,
   "metadata": {},
   "outputs": [
    {
     "data": {
      "text/plain": [
       "array([[ 0.12156863,  0.46666667,  0.70588235,  1.        ],\n",
       "       [ 1.        ,  0.49803922,  0.05490196,  1.        ],\n",
       "       [ 0.17254902,  0.62745098,  0.17254902,  1.        ],\n",
       "       [ 0.83921569,  0.15294118,  0.15686275,  1.        ],\n",
       "       [ 0.58039216,  0.40392157,  0.74117647,  1.        ],\n",
       "       [ 0.54901961,  0.3372549 ,  0.29411765,  1.        ],\n",
       "       [ 0.89019608,  0.46666667,  0.76078431,  1.        ],\n",
       "       [ 0.49803922,  0.49803922,  0.49803922,  1.        ],\n",
       "       [ 0.7372549 ,  0.74117647,  0.13333333,  1.        ],\n",
       "       [ 0.09019608,  0.74509804,  0.81176471,  1.        ]])"
      ]
     },
     "execution_count": 114,
     "metadata": {},
     "output_type": "execute_result"
    }
   ],
   "source": [
    "colors"
   ]
  },
  {
   "cell_type": "code",
   "execution_count": 122,
   "metadata": {},
   "outputs": [
    {
     "data": {
      "text/plain": [
       "[<matplotlib.lines.Line2D at 0x7f8819c81358>]"
      ]
     },
     "execution_count": 122,
     "metadata": {},
     "output_type": "execute_result"
    },
    {
     "data": {
      "image/png": "[encoded data removed]",
      "text/plain": [
       "<matplotlib.figure.Figure at 0x7f8819d20e10>"
      ]
     },
     "metadata": {},
     "output_type": "display_data"
    }
   ],
   "source": [
    "plt.plot([1,2,3,4,5,6,6,7,8,9], color = colors[3])"
   ]
  },
  {
   "cell_type": "code",
   "execution_count": 142,
   "metadata": {},
   "outputs": [
    {
     "data": {
      "text/plain": [
       "671744"
      ]
     },
     "execution_count": 142,
     "metadata": {},
     "output_type": "execute_result"
    }
   ],
   "source": [
    "len(y)"
   ]
  },
  {
   "cell_type": "code",
   "execution_count": 147,
   "metadata": {},
   "outputs": [
    {
     "data": {
      "text/plain": [
       "array([ 2077,  1911,  1836, ...,  6828,  1386, -1939], dtype=int16)"
      ]
     },
     "execution_count": 147,
     "metadata": {},
     "output_type": "execute_result"
    }
   ],
   "source": [
    "y\n"
   ]
  },
  {
   "cell_type": "code",
   "execution_count": 149,
   "metadata": {},
   "outputs": [
    {
     "data": {
      "text/plain": [
       "[<matplotlib.lines.Line2D at 0x7f881cf27588>]"
      ]
     },
     "execution_count": 149,
     "metadata": {},
     "output_type": "execute_result"
    },
    {
     "data": {
      "image/png": "[encoded data removed]",
      "text/plain": [
       "<matplotlib.figure.Figure at 0x7f88195d83c8>"
      ]
     },
     "metadata": {},
     "output_type": "display_data"
    }
   ],
   "source": [
    "plt.plot(y[1000:5000])"
   ]
  },
  {
   "cell_type": "code",
   "execution_count": 152,
   "metadata": {},
   "outputs": [
    {
     "data": {
      "text/plain": [
       "array([     0,      1,      2, ..., 671741, 671742, 671744])"
      ]
     },
     "execution_count": 152,
     "metadata": {},
     "output_type": "execute_result"
    }
   ],
   "source": []
  },
  {
   "cell_type": "code",
   "execution_count": null,
   "metadata": {
    "collapsed": true
   },
   "outputs": [],
   "source": []
  }
 ],
 "metadata": {
  "kernelspec": {
   "display_name": "Python 3",
   "language": "python",
   "name": "python3"
  },
  "language_info": {
   "codemirror_mode": {
    "name": "ipython",
    "version": 3
   },
   "file_extension": ".py",
   "mimetype": "text/x-python",
   "name": "python",
   "nbconvert_exporter": "python",
   "pygments_lexer": "ipython3",
   "version": "3.6.1"
  }
 },
 "nbformat": 4,
 "nbformat_minor": 2
}
