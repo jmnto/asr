{
 "cells": [
  {
   "cell_type": "code",
   "execution_count": 2,
   "metadata": {
    "collapsed": true
   },
   "outputs": [],
   "source": [
    "#Diretives \n",
    "AUDIO_PATH = 'test_wav/'\n",
    "OUT_PATH = 'test_out/'\n",
    "SH_FILE = 'goTests.sh'\n",
    "SEG_SUFFIX = '.3.h.seg'"
   ]
  },
  {
   "cell_type": "code",
   "execution_count": 4,
   "metadata": {
    "collapsed": true
   },
   "outputs": [],
   "source": [
    "import numpy as np\n",
    "import pandas as pd\n",
    "import os\n",
    "import re\n",
    "import copy\n",
    "import subprocess\n",
    "import scipy.io.wavfile as wav\n",
    "import matplotlib.pyplot as plt\n",
    "import matplotlib.cm as cm\n",
    "%matplotlib inline  \n",
    "import matplotlib"
   ]
  },
  {
   "cell_type": "code",
   "execution_count": 11,
   "metadata": {
    "collapsed": true
   },
   "outputs": [],
   "source": [
    "#calculate duration of the audio\n",
    "def audio_duration(y,sr):\n",
    "    return len(y)/sr\n",
    "#get the number of frames\n",
    "def get_nFrames(y,sr,winStep=0.010 ):\n",
    "    num_frames = int(len(y)/(winStep*sr)) - 1    \n",
    "    return num_frames\n",
    "def Sample2sec(sample, sr):\n",
    "    return sample/sr\n",
    "def Sec2sample(sec, sr):\n",
    "    return int(sec*sr)\n",
    "def Frame2sec(frame, nframes, duration):\n",
    "    return (frame*duration)/nframes\n",
    "def Sec2Frame(sec, nframes, duration):\n",
    "    return int((sec*nframes)/duration)\n",
    "def findClusterPosition(diarfile):\n",
    "    cluster_idx = []\n",
    "    for i in range(len(diarfile)):\n",
    "        aux_line = diarfile[i]\n",
    "        if len([m.start() for m in re.finditer(';;', diarfile[i])])>0:\n",
    "            cluster_idx.append(i)\n",
    "    nclusters = len(cluster_idx)\n",
    "    return cluster_idx, nclusters\n",
    "def FindSegments_Frame(diarfile, cluster_idx, nclusters):\n",
    "    ClusterSegs = []\n",
    "    for i in range(nclusters):\n",
    "        if(i<(nclusters-1)):\n",
    "            segsClus_i = diarfile[cluster_idx[i]+1:cluster_idx[i+1]]\n",
    "        else:\n",
    "            segsClus_i = diarfile[cluster_idx[i]+1:]\n",
    "        SegsCluster_j = []\n",
    "        for j in range(len(segsClus_i)):\n",
    "            seg_j = segsClus_i[j]\n",
    "            spaces = [m.start() for m in re.finditer(' ', seg_j)]\n",
    "            fr_start = int(seg_j[(spaces[1]+1):spaces[2]])\n",
    "            fr_end = int(seg_j[(spaces[2]+1):spaces[3]]) + fr_start\n",
    "            SegsCluster_j.append([fr_start, fr_end])\n",
    "        ClusterSegs.append(SegsCluster_j)\n",
    "    return ClusterSegs\n",
    "def FindSegments_Secs(Segments_Frame, nframes, duration):\n",
    "    ClusterSegs = copy.deepcopy(Segments_Frame)\n",
    "    for cluster_id,i in enumerate(Segments_Frame):\n",
    "        for seg_id,j in enumerate(i):\n",
    "            ClusterSegs[cluster_id][seg_id][0] = Frame2sec(j[0], nframes, duration)\n",
    "            ClusterSegs[cluster_id][seg_id][1] = Frame2sec(j[1], nframes, duration)\n",
    "    return ClusterSegs"
   ]
  },
  {
   "cell_type": "code",
   "execution_count": 6,
   "metadata": {
    "collapsed": true
   },
   "outputs": [],
   "source": [
    "#read an audio file for experiments\n",
    "sr,y = wav.read(filename='inputfolderTeste/4694.wav')"
   ]
  },
  {
   "cell_type": "code",
   "execution_count": 9,
   "metadata": {
    "collapsed": true
   },
   "outputs": [],
   "source": [
    "#filename = 'test_out/diarizationExample2/diarizationExample2.h.3.seg'\n",
    "filename = 'outFolderTeste/4694/4694.d.3.seg'\n",
    "with open(filename) as f:\n",
    "    diarfile = f.readlines()"
   ]
  },
  {
   "cell_type": "code",
   "execution_count": 14,
   "metadata": {},
   "outputs": [
    {
     "data": {
      "text/plain": [
       "[[[0.0, 45.522439034191756],\n",
       "  [79.31424955627742, 105.3156426777402],\n",
       "  [120.26644372258129, 156.44838230467832],\n",
       "  [175.3993976758983, 203.28089153075916],\n",
       "  [225.482081042162, 295.4958322896085]],\n",
       " [[45.522439034191756, 79.31424955627742],\n",
       "  [105.3156426777402, 120.26644372258129],\n",
       "  [156.44838230467832, 175.3993976758983],\n",
       "  [203.28089153075916, 225.482081042162],\n",
       "  [295.4958322896085, 298.626]]]"
      ]
     },
     "execution_count": 14,
     "metadata": {},
     "output_type": "execute_result"
    }
   ],
   "source": [
    "Segments_Frame = []\n",
    "duration = audio_duration(y,sr)\n",
    "nframes = get_nFrames(y,sr,winStep=0.010)\n",
    "cluster_idx, nclusters = findClusterPosition(diarfile)\n",
    "Segments_Frame = FindSegments_Frame(diarfile, cluster_idx, nclusters)\n",
    "Segments_Sec = FindSegments_Secs(Segments_Frame, nframes, duration)\n",
    "Segments_Sec"
   ]
  },
  {
   "cell_type": "code",
   "execution_count": 16,
   "metadata": {},
   "outputs": [],
   "source": [
    "#create fake reference\n",
    "Segments_Ref = copy.deepcopy(Segments_Sec)\n",
    "for idx1,i in enumerate(Segments_Ref):\n",
    "    for idx2,j in enumerate(i):\n",
    "        Segments_Ref[idx1][idx2][0] = j[0]+0.672\n",
    "        Segments_Ref[idx1][idx2][1] = j[1]+0.887"
   ]
  },
  {
   "cell_type": "code",
   "execution_count": 17,
   "metadata": {},
   "outputs": [
    {
     "data": {
      "text/plain": [
       "[[[0.672, 46.409439034191756],\n",
       "  [79.98624955627741, 106.2026426777402],\n",
       "  [120.93844372258128, 157.33538230467832],\n",
       "  [176.0713976758983, 204.16789153075916],\n",
       "  [226.154081042162, 296.3828322896085]],\n",
       " [[46.19443903419175, 80.20124955627742],\n",
       "  [105.9876426777402, 121.15344372258129],\n",
       "  [157.12038230467832, 176.28639767589831],\n",
       "  [203.95289153075916, 226.369081042162],\n",
       "  [296.1678322896085, 299.513]]]"
      ]
     },
     "execution_count": 17,
     "metadata": {},
     "output_type": "execute_result"
    }
   ],
   "source": [
    "Segments_Ref"
   ]
  },
  {
   "cell_type": "code",
   "execution_count": 18,
   "metadata": {},
   "outputs": [
    {
     "data": {
      "text/plain": [
       "[[[0.0, 45.522439034191756],\n",
       "  [79.31424955627742, 105.3156426777402],\n",
       "  [120.26644372258129, 156.44838230467832],\n",
       "  [175.3993976758983, 203.28089153075916],\n",
       "  [225.482081042162, 295.4958322896085]],\n",
       " [[45.522439034191756, 79.31424955627742],\n",
       "  [105.3156426777402, 120.26644372258129],\n",
       "  [156.44838230467832, 175.3993976758983],\n",
       "  [203.28089153075916, 225.482081042162],\n",
       "  [295.4958322896085, 298.626]]]"
      ]
     },
     "execution_count": 18,
     "metadata": {},
     "output_type": "execute_result"
    }
   ],
   "source": [
    "Segments_Sec"
   ]
  },
  {
   "cell_type": "code",
   "execution_count": 19,
   "metadata": {},
   "outputs": [
    {
     "name": "stdout",
     "output_type": "stream",
     "text": [
      "Populating the interactive namespace from numpy and matplotlib\n"
     ]
    },
    {
     "name": "stderr",
     "output_type": "stream",
     "text": [
      "/home/jmnt/anaconda3/lib/python3.6/site-packages/IPython/core/magics/pylab.py:160: UserWarning: pylab import has clobbered these variables: ['copy', 'f']\n",
      "`%matplotlib` prevents importing * from pylab and numpy\n",
      "  \"\\n`%matplotlib` prevents importing * from pylab and numpy\"\n"
     ]
    }
   ],
   "source": [
    "#use pyannote to create the segments\n",
    "%pylab inline\n",
    "from pyannote.core import Annotation, Segment"
   ]
  },
  {
   "cell_type": "code",
   "execution_count": 20,
   "metadata": {
    "collapsed": true
   },
   "outputs": [],
   "source": [
    "reference = Annotation()\n",
    "for idx1,i in enumerate(Segments_Ref):\n",
    "    for idx2,j in enumerate(i):\n",
    "        reference[Segment(j[0], j[1])] = str(idx1)    "
   ]
  },
  {
   "cell_type": "code",
   "execution_count": 21,
   "metadata": {
    "collapsed": true
   },
   "outputs": [],
   "source": [
    "hypothesis_lium = Annotation()\n",
    "for idx1,i in enumerate(Segments_Sec):\n",
    "    for idx2,j in enumerate(i):\n",
    "        hypothesis_lium[Segment(j[0], j[1])] = str(idx1)   "
   ]
  },
  {
   "cell_type": "code",
   "execution_count": 22,
   "metadata": {},
   "outputs": [
    {
     "data": {
      "image/png": "[encoded data removed]",
      "text/plain": [
       "<pyannote.core.annotation.Annotation at 0x7f38e31942b0>"
      ]
     },
     "execution_count": 22,
     "metadata": {},
     "output_type": "execute_result"
    }
   ],
   "source": [
    "hypothesis_lium"
   ]
  },
  {
   "cell_type": "code",
   "execution_count": 26,
   "metadata": {},
   "outputs": [
    {
     "data": {
      "image/png": "[encoded data removed]",
      "text/plain": [
       "<pyannote.core.annotation.Annotation at 0x7f38e3186780>"
      ]
     },
     "execution_count": 26,
     "metadata": {},
     "output_type": "execute_result"
    }
   ],
   "source": [
    "reference"
   ]
  },
  {
   "cell_type": "code",
   "execution_count": 27,
   "metadata": {},
   "outputs": [
    {
     "name": "stdout",
     "output_type": "stream",
     "text": [
      "DER = 0.032\n"
     ]
    }
   ],
   "source": [
    "from pyannote.metrics.diarization import DiarizationErrorRate\n",
    "diarizationErrorRate = DiarizationErrorRate()\n",
    "print(\"DER = {0:.3f}\".format(diarizationErrorRate(reference, hypothesis_lium, uem=Segment(0, 299.513))))"
   ]
  },
  {
   "cell_type": "code",
   "execution_count": null,
   "metadata": {
    "collapsed": true
   },
   "outputs": [],
   "source": []
  }
 ],
 "metadata": {
  "kernelspec": {
   "display_name": "Python 3",
   "language": "python",
   "name": "python3"
  },
  "language_info": {
   "codemirror_mode": {
    "name": "ipython",
    "version": 3
   },
   "file_extension": ".py",
   "mimetype": "text/x-python",
   "name": "python",
   "nbconvert_exporter": "python",
   "pygments_lexer": "ipython3",
   "version": "3.6.1"
  }
 },
 "nbformat": 4,
 "nbformat_minor": 2
}
